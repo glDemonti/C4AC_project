{
 "cells": [
  {
   "cell_type": "markdown",
   "id": "6366b784",
   "metadata": {},
   "source": [
    "![AHU](cool_CAV.svg)"
   ]
  },
  {
   "cell_type": "markdown",
   "id": "f8aa9461",
   "metadata": {},
   "source": []
  }
 ],
 "metadata": {
  "language_info": {
   "name": "python"
  }
 },
 "nbformat": 4,
 "nbformat_minor": 5
}
